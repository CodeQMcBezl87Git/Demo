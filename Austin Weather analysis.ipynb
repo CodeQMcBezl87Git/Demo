{
    "cells": [
        {
            "metadata": {},
            "cell_type": "markdown",
            "source": "#Inserting a cell above because that's what good boys do"
        },
        {
            "metadata": {},
            "cell_type": "code",
            "source": "\n// @hidden_cell\nimport com.ibm.ibmos2spark.CloudObjectStorage\nvar configurationName = \"os_c87d3d890fd34df2873abd8d8612ecdc_configs\"\n\nvar endpoint_c87d3d890fd34df2873abd8d8612ecdc = \"https://s3.private.us.cloud-object-storage.appdomain.cloud\"\nif (System.getenv(\"RUNTIME_ENV_LOCATION_TYPE\") == \"external\") {\n    endpoint_c87d3d890fd34df2873abd8d8612ecdc = \"https://s3.us.cloud-object-storage.appdomain.cloud\"\n}\n\ndef getCredentials(): scala.collection.mutable.HashMap[String, String] = {\n    return scala.collection.mutable.HashMap[String, String] (\n    \"endPoint\"-> endpoint_c87d3d890fd34df2873abd8d8612ecdc,\n    \"apiKey\"->\"4MUYNH2w2WFqWsTXYYTlPA80CvI9LQzcHKg9yDXPgb7t\",\n    \"serviceId\"->\"iam-ServiceId-e93b9dc8-f599-4a63-8fb6-78d7d50a6a14\",\n    \"iamServiceEndpoint\" -> \"https://iam.cloud.ibm.com/oidc/token\")\n}\n\nvar cos = new CloudObjectStorage(sc, getCredentials(), configurationName, \"bluemix_cos\")\n\nimport org.apache.spark.sql.SparkSession\nval spark = SparkSession.\n    builder().\n    getOrCreate()\nval dfData1 = spark.\n    read.format(\"org.apache.spark.sql.execution.datasources.csv.CSVFileFormat\").\n    option(\"header\", \"true\").\n    option(\"inferSchema\", \"true\").\n    load(cos.url(\"courseraproject-donotdelete-pr-l9hteiwtamgyxh\", \"austin_weather.csv\"))\ndfData1.show(5)\n",
            "execution_count": 1,
            "outputs": [
                {
                    "output_type": "stream",
                    "text": "+----------+---------+--------+--------+-------------+------------+------------+-------------------+------------------+------------------+--------------------------+-------------------------+-------------------------+-------------------+------------------+------------------+-----------+----------+-----------+----------------------+-------------------+\n|      Date|TempHighF|TempAvgF|TempLowF|DewPointHighF|DewPointAvgF|DewPointLowF|HumidityHighPercent|HumidityAvgPercent|HumidityLowPercent|SeaLevelPressureHighInches|SeaLevelPressureAvgInches|SeaLevelPressureLowInches|VisibilityHighMiles|VisibilityAvgMiles|VisibilityLowMiles|WindHighMPH|WindAvgMPH|WindGustMPH|PrecipitationSumInches|             Events|\n+----------+---------+--------+--------+-------------+------------+------------+-------------------+------------------+------------------+--------------------------+-------------------------+-------------------------+-------------------+------------------+------------------+-----------+----------+-----------+----------------------+-------------------+\n|2013-12-21|       74|      60|      45|           67|          49|          43|                 93|                75|                57|                     29.86|                    29.68|                    29.59|                 10|                 7|                 2|         20|         4|         31|                  0.46|Rain , Thunderstorm|\n|2013-12-22|       56|      48|      39|           43|          36|          28|                 93|                68|                43|                     30.41|                    30.13|                    29.87|                 10|                10|                 5|         16|         6|         25|                     0|                   |\n|2013-12-23|       58|      45|      32|           31|          27|          23|                 76|                52|                27|                     30.56|                    30.49|                    30.41|                 10|                10|                10|          8|         3|         12|                     0|                   |\n|2013-12-24|       61|      46|      31|           36|          28|          21|                 89|                56|                22|                     30.56|                    30.45|                     30.3|                 10|                10|                 7|         12|         4|         20|                     0|                   |\n|2013-12-25|       58|      50|      41|           44|          40|          36|                 86|                71|                56|                     30.41|                    30.33|                    30.27|                 10|                10|                 7|         10|         2|         16|                     T|                   |\n+----------+---------+--------+--------+-------------+------------+------------+-------------------+------------------+------------------+--------------------------+-------------------------+-------------------------+-------------------+------------------+------------------+-----------+----------+-----------+----------------------+-------------------+\nonly showing top 5 rows\n\n",
                    "name": "stdout"
                },
                {
                    "output_type": "display_data",
                    "data": {
                        "text/plain": "configurationName = os_c87d3d890fd34df2873abd8d8612ecdc_configs\nendpoint_c87d3d890fd34df2873abd8d8612ecdc = https://s3.private.us.cloud-object-storage.appdomain.cloud\ncos = com.ibm.ibmos2spark.CloudObjectStorage@3be1f65a\nspark = org.apache.spark.sql.SparkSession@ebb0f94c\ndfData1 = [Date: string, TempHighF: int ... 19 more fields]\n"
                    },
                    "metadata": {}
                },
                {
                    "output_type": "display_data",
                    "data": {
                        "text/plain": "getCredentials: ()scala.collection.mutable.HashMap[String,String]\n"
                    },
                    "metadata": {}
                },
                {
                    "output_type": "execute_result",
                    "execution_count": 1,
                    "data": {
                        "text/plain": "[Date: string, TempHighF: int ... 19 more fields]"
                    },
                    "metadata": {}
                }
            ]
        }
    ],
    "metadata": {
        "kernelspec": {
            "name": "scala",
            "display_name": "Scala 2.12 with Spark",
            "language": "scala"
        },
        "language_info": {
            "name": "scala",
            "version": "2.12.12",
            "file_extension": ".scala",
            "pygments_lexer": "scala",
            "mimetype": "text/x-scala",
            "codemirror_mode": "text/x-scala"
        }
    },
    "nbformat": 4,
    "nbformat_minor": 1
}